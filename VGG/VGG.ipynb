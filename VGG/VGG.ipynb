{
 "cells": [
  {
   "cell_type": "code",
   "execution_count": 44,
   "metadata": {},
   "outputs": [],
   "source": [
    "import torch\n",
    "import torch.nn as nn\n",
    "import torch.nn.functional as F\n",
    "import torch.optim as optim\n",
    "from torch.utils.data import DataLoader\n",
    "import torchvision.datasets as Dataset\n",
    "import torchvision.transforms as Transforms\n",
    "import matplotlib.pyplot as plt\n",
    "from tqdm import tqdm\n",
    "\n",
    "\n",
    "import ssl\n",
    "ssl._create_default_https_context = ssl._create_unverified_context"
   ]
  },
  {
   "cell_type": "code",
   "execution_count": 18,
   "metadata": {},
   "outputs": [
    {
     "data": {
      "text/plain": [
       "device(type='cuda')"
      ]
     },
     "execution_count": 18,
     "metadata": {},
     "output_type": "execute_result"
    }
   ],
   "source": [
    "device = torch.device('cuda' if torch.cuda.is_available() else 'cpu')\n",
    "device"
   ]
  },
  {
   "cell_type": "code",
   "execution_count": 29,
   "metadata": {},
   "outputs": [],
   "source": [
    "NUM_EPOCH = 2\n",
    "NUM_CLASSES = 47\n",
    "BATCH_SIZE = 64\n",
    "LEARNING_RATE = 0.01"
   ]
  },
  {
   "cell_type": "markdown",
   "metadata": {},
   "source": [
    "### Dataset"
   ]
  },
  {
   "cell_type": "code",
   "execution_count": 3,
   "metadata": {},
   "outputs": [
    {
     "name": "stdout",
     "output_type": "stream",
     "text": [
      "Downloading https://www.itl.nist.gov/iaui/vip/cs_links/EMNIST/gzip.zip to ./data/EMNIST/raw/gzip.zip\n"
     ]
    },
    {
     "name": "stderr",
     "output_type": "stream",
     "text": [
      "100%|██████████| 561753746/561753746 [05:34<00:00, 1679617.22it/s]\n"
     ]
    },
    {
     "name": "stdout",
     "output_type": "stream",
     "text": [
      "Extracting ./data/EMNIST/raw/gzip.zip to ./data/EMNIST/raw\n"
     ]
    }
   ],
   "source": [
    "#Download the dataset\n",
    "train_dataset = Dataset.EMNIST(root=\"./data\", train=True, transform=Transforms.ToTensor(), split=\"balanced\", download=True)\n",
    "test_dataset = Dataset.EMNIST(root=\"./data\", train=False, transform=Transforms.ToTensor(), split=\"balanced\", download=True)"
   ]
  },
  {
   "cell_type": "code",
   "execution_count": 35,
   "metadata": {},
   "outputs": [],
   "source": [
    "train_loader = DataLoader(dataset=train_dataset, batch_size=BATCH_SIZE, shuffle=True)\n",
    "\n",
    "test_loader = DataLoader(dataset=test_dataset, batch_size=BATCH_SIZE, shuffle=True)\n"
   ]
  },
  {
   "cell_type": "code",
   "execution_count": 36,
   "metadata": {},
   "outputs": [
    {
     "name": "stdout",
     "output_type": "stream",
     "text": [
      "mean=tensor([-6.5242e-07]); std=tensor([1.0000]); num_samples=112800\n"
     ]
    }
   ],
   "source": [
    "# Normalize the dataset\n",
    "mean = 0.0\n",
    "std = 0.0\n",
    "num_samples = 0\n",
    "\n",
    "\n",
    "for data, lbls in train_loader:\n",
    "    batch_samples = data.size(0)\n",
    "    data = data.view(batch_samples, data.size(1), -1)\n",
    "    mean += data.mean(2).sum(0)\n",
    "    std += data.std(2).sum(0)\n",
    "    num_samples += batch_samples\n",
    "\n",
    "mean /= num_samples\n",
    "std /= num_samples\n",
    "\n",
    "print(f'{mean=}; {std=}; {num_samples=}')\n",
    "\n",
    "normalize_transform = Transforms.Normalize(mean=mean, std=std)\n",
    "\n",
    "# Apply normalization to train and test datasets\n",
    "train_loader.transform = Transforms.Compose([\n",
    "    Transforms.ToTensor(),\n",
    "    normalize_transform\n",
    "])\n",
    "\n",
    "test_loader.transform = Transforms.Compose([\n",
    "    Transforms.ToTensor(),\n",
    "    normalize_transform\n",
    "])\n",
    "\n"
   ]
  },
  {
   "cell_type": "code",
   "execution_count": 38,
   "metadata": {},
   "outputs": [
    {
     "name": "stdout",
     "output_type": "stream",
     "text": [
      "Data shape: tensor([[[[-0.5360, -0.5360, -0.5360,  ..., -0.5360, -0.5360, -0.5360],\n",
      "          [-0.5360, -0.5360, -0.5360,  ..., -0.5360, -0.5360, -0.5360],\n",
      "          [-0.5360, -0.5360, -0.5360,  ..., -0.5360, -0.5360, -0.5360],\n",
      "          ...,\n",
      "          [-0.5360, -0.5360, -0.5360,  ..., -0.5360, -0.5360, -0.5360],\n",
      "          [-0.5360, -0.5360, -0.5360,  ..., -0.5360, -0.5360, -0.5360],\n",
      "          [-0.5360, -0.5360, -0.5360,  ..., -0.5360, -0.5360, -0.5360]]],\n",
      "\n",
      "\n",
      "        [[[-0.5360, -0.5360, -0.5360,  ..., -0.5360, -0.5360, -0.5360],\n",
      "          [-0.5360, -0.5360, -0.5360,  ..., -0.5360, -0.5360, -0.5360],\n",
      "          [-0.5360, -0.5360, -0.5360,  ..., -0.5360, -0.5360, -0.5360],\n",
      "          ...,\n",
      "          [-0.5360, -0.5360, -0.5360,  ..., -0.5360, -0.5360, -0.5360],\n",
      "          [-0.5360, -0.5360, -0.5360,  ..., -0.5360, -0.5360, -0.5360],\n",
      "          [-0.5360, -0.5360, -0.5360,  ..., -0.5360, -0.5360, -0.5360]]],\n",
      "\n",
      "\n",
      "        [[[-0.5360, -0.5360, -0.5360,  ..., -0.5360, -0.5360, -0.5360],\n",
      "          [-0.5360, -0.5360, -0.5360,  ..., -0.5360, -0.5360, -0.5360],\n",
      "          [-0.5360, -0.5360, -0.5360,  ..., -0.5360, -0.5360, -0.5360],\n",
      "          ...,\n",
      "          [-0.5360, -0.5360, -0.5360,  ..., -0.5360, -0.5360, -0.5360],\n",
      "          [-0.5360, -0.5360, -0.5360,  ..., -0.5360, -0.5360, -0.5360],\n",
      "          [-0.5360, -0.5360, -0.5360,  ..., -0.5360, -0.5360, -0.5360]]],\n",
      "\n",
      "\n",
      "        ...,\n",
      "\n",
      "\n",
      "        [[[-0.5360, -0.5360, -0.5360,  ..., -0.5360, -0.5360, -0.5360],\n",
      "          [-0.5360, -0.5360, -0.5360,  ..., -0.5360, -0.5360, -0.5360],\n",
      "          [-0.5360, -0.5360, -0.5360,  ..., -0.5360, -0.5360, -0.5360],\n",
      "          ...,\n",
      "          [-0.5360, -0.5360, -0.5360,  ..., -0.5360, -0.5360, -0.5360],\n",
      "          [-0.5360, -0.5360, -0.5360,  ..., -0.5360, -0.5360, -0.5360],\n",
      "          [-0.5360, -0.5360, -0.5360,  ..., -0.5360, -0.5360, -0.5360]]],\n",
      "\n",
      "\n",
      "        [[[-0.5360, -0.5360, -0.5360,  ..., -0.5360, -0.5360, -0.5360],\n",
      "          [-0.5360, -0.5360, -0.5360,  ..., -0.5360, -0.5360, -0.5360],\n",
      "          [-0.5360, -0.5360, -0.5360,  ..., -0.5360, -0.5360, -0.5360],\n",
      "          ...,\n",
      "          [-0.5360, -0.5360, -0.5360,  ..., -0.5360, -0.5360, -0.5360],\n",
      "          [-0.5360, -0.5360, -0.5360,  ..., -0.5360, -0.5360, -0.5360],\n",
      "          [-0.5360, -0.5360, -0.5360,  ..., -0.5360, -0.5360, -0.5360]]],\n",
      "\n",
      "\n",
      "        [[[-0.5360, -0.5360, -0.5360,  ..., -0.5360, -0.5360, -0.5360],\n",
      "          [-0.5360, -0.5360, -0.5360,  ..., -0.5360, -0.5360, -0.5360],\n",
      "          [-0.5360, -0.5360, -0.5360,  ..., -0.2959, -0.5360, -0.5360],\n",
      "          ...,\n",
      "          [-0.5360, -0.5360, -0.5360,  ..., -0.5360, -0.5360, -0.5360],\n",
      "          [-0.5360, -0.5360, -0.5360,  ..., -0.5360, -0.5360, -0.5360],\n",
      "          [-0.5360, -0.5360, -0.5360,  ..., -0.5360, -0.5360, -0.5360]]]])\n",
      "Label: tensor([41, 14, 39, 29, 41, 24, 41, 26, 46, 27, 16, 38, 31, 15, 10, 20, 44,  9,\n",
      "        15, 31, 19, 32,  3, 36, 16, 29, 15, 39,  8,  4, 29, 34, 32, 28, 37, 44,\n",
      "        11, 19,  6, 21, 24, 22,  6, 34, 35, 31,  5, 44, 33, 43,  3,  7, 13,  8,\n",
      "         3, 17,  4,  9, 38, 24, 19, 12, 39, 11])\n"
     ]
    }
   ],
   "source": [
    "for data, label in train_loader:\n",
    "    # Print the shape of the data tensor\n",
    "    print(\"Data shape:\", data)\n",
    "    \n",
    "    # Print the label\n",
    "    print(\"Label:\", label)  # label is a tensor, so use .item() to get the integer value\n",
    "    \n",
    "    # Break after printing one sample\n",
    "    break"
   ]
  },
  {
   "cell_type": "code",
   "execution_count": 26,
   "metadata": {},
   "outputs": [
    {
     "name": "stdout",
     "output_type": "stream",
     "text": [
      "number of classes 47\n"
     ]
    },
    {
     "data": {
      "image/png": "[encoded data removed]",
      "text/plain": [
       "<Figure size 640x480 with 1 Axes>"
      ]
     },
     "metadata": {},
     "output_type": "display_data"
    }
   ],
   "source": [
    "class_counts = {}\n",
    "\n",
    "for values, labels in train_loader:\n",
    "    for label in labels:\n",
    "        if label.item() in class_counts:\n",
    "            class_counts[label.item()] += 1\n",
    "        else:\n",
    "            class_counts[label.item()] = 1\n",
    "\n",
    "classes = list(class_counts.keys())\n",
    "counts = list(class_counts.values())\n",
    "print(f'number of classes {len(classes)}')\n",
    "NUM_CLASSES = len(classes)\n",
    "\n",
    "# Plotting graph\n",
    "plt.bar(classes, counts)\n",
    "plt.xlabel('Classes')\n",
    "plt.ylabel('Number of Data')\n",
    "plt.title('Class Distribution in Train')\n",
    "plt.xticks(classes)\n",
    "plt.xticks(rotation=90)\n",
    "plt.show()"
   ]
  },
  {
   "cell_type": "code",
   "execution_count": 22,
   "metadata": {},
   "outputs": [],
   "source": [
    "VGG16 = [64, 64, 'M', 128,128,'M', 256, 256, 256, 'M', 512, 512, 512, 'M', 512, 512, 512, 'M']"
   ]
  },
  {
   "cell_type": "code",
   "execution_count": 23,
   "metadata": {},
   "outputs": [],
   "source": [
    "class VGGNet(nn.Module):\n",
    "    def __init__(self, in_channels=3, num_classes=1000, architecture=VGG16):\n",
    "        super(VGGNet, self).__init__()\n",
    "        self.in_channels = in_channels\n",
    "        self.conv_layers = self.create_conv_layer(VGG16)\n",
    "        self.fcs = nn.Sequential(\n",
    "            nn.Linear(512*7*7, 4096), # size of feature map at end is 7*7\n",
    "            nn.ReLU(),\n",
    "            nn.Dropout(p=0.5),\n",
    "            nn.Linear(4096, 4096),\n",
    "            nn.ReLU(),\n",
    "            nn.Dropout(p=0.5),\n",
    "            nn.Linear(4096,num_classes)\n",
    "        )\n",
    "        self.softMax = nn.Softmax(dim=1) # not sure\n",
    "\n",
    "\n",
    "    def forward(self, x):\n",
    "        out = self.conv_layers(x)\n",
    "        out = out.reshape(out.shape[0], -1)\n",
    "        out = self.fcs(out)\n",
    "        out = self.softMax(out)\n",
    "        return out\n",
    "\n",
    "    def create_conv_layer(self, architecture):\n",
    "        layers = []\n",
    "        in_channels = self.in_channels\n",
    "\n",
    "        for x in architecture:\n",
    "            if type(x) == int:\n",
    "                out_channels = x\n",
    "                layers += [nn.Conv2d(in_channels=in_channels, out_channels=out_channels, kernel_size=(3,3),stride=(1,1), padding=(1,1)),\n",
    "                           nn.BatchNorm2d(x),\n",
    "                           nn.ReLU()]\n",
    "                \n",
    "                in_channels = x\n",
    "            elif x == 'M':\n",
    "                layers += [nn.MaxPool2d(kernel_size=(2,2), stride=(2,2))]\n",
    "\n",
    "        return nn.Sequential(*layers)\n",
    "        \n"
   ]
  },
  {
   "cell_type": "code",
   "execution_count": 47,
   "metadata": {},
   "outputs": [],
   "source": [
    "model = VGGNet(architecture=VGG16,in_channels=1, num_classes=NUM_CLASSES).to(device)\n",
    "# model"
   ]
  },
  {
   "cell_type": "code",
   "execution_count": 32,
   "metadata": {},
   "outputs": [
    {
     "name": "stdout",
     "output_type": "stream",
     "text": [
      "torch.Size([2, 3, 224, 224])\n"
     ]
    },
    {
     "data": {
      "text/plain": [
       "tensor([[0.0239, 0.0228, 0.0265, 0.0183, 0.0220, 0.0163, 0.0131, 0.0119, 0.0208,\n",
       "         0.0270, 0.0194, 0.0291, 0.0260, 0.0260, 0.0211, 0.0214, 0.0128, 0.0184,\n",
       "         0.0155, 0.0163, 0.0291, 0.0184, 0.0176, 0.0241, 0.0231, 0.0136, 0.0194,\n",
       "         0.0220, 0.0210, 0.0188, 0.0212, 0.0327, 0.0207, 0.0186, 0.0245, 0.0275,\n",
       "         0.0250, 0.0190, 0.0184, 0.0263, 0.0242, 0.0200, 0.0219, 0.0223, 0.0195,\n",
       "         0.0199, 0.0226],\n",
       "        [0.0264, 0.0175, 0.0228, 0.0186, 0.0208, 0.0194, 0.0180, 0.0200, 0.0281,\n",
       "         0.0238, 0.0241, 0.0272, 0.0221, 0.0280, 0.0228, 0.0133, 0.0160, 0.0222,\n",
       "         0.0164, 0.0162, 0.0324, 0.0291, 0.0214, 0.0170, 0.0189, 0.0205, 0.0233,\n",
       "         0.0181, 0.0168, 0.0201, 0.0181, 0.0306, 0.0113, 0.0216, 0.0168, 0.0174,\n",
       "         0.0203, 0.0213, 0.0214, 0.0255, 0.0191, 0.0217, 0.0226, 0.0178, 0.0267,\n",
       "         0.0197, 0.0265]], device='cuda:0', grad_fn=<SoftmaxBackward0>)"
      ]
     },
     "execution_count": 32,
     "metadata": {},
     "output_type": "execute_result"
    }
   ],
   "source": [
    "def test():\n",
    "    x = torch.randn(2, 3, 224, 224)\n",
    "    print(x.shape)\n",
    "\n",
    "    result = model(x.to(device))\n",
    "    return result\n",
    "\n",
    "fp = test()\n",
    "fp"
   ]
  },
  {
   "cell_type": "code",
   "execution_count": 48,
   "metadata": {},
   "outputs": [],
   "source": [
    "def train(model, epochs, criterion, optimizer, scheduler):\n",
    "    train_losses = []\n",
    "    train_acc = []\n",
    "\n",
    "    for i in range(epochs):\n",
    "        best_acc = 0.0\n",
    "\n",
    "        print(f\"Epoch: {i + 1}\")\n",
    "\n",
    "        for images, targets in tqdm(train_loader, desc= \"Train\\t\"):\n",
    "            images, targets = images.to(device), targets.to(device)\n",
    "\n",
    "            # images = images.reshape(images.shape[0], -1) \n",
    "\n",
    "            optimizer.zero_grad()\n",
    "\n",
    "            output = model(images)\n",
    "            loss = criterion(output, targets)\n",
    "\n",
    "            loss.backward()\n",
    "            optimizer.step()\n",
    "\n",
    "            running_loss += loss.item()\n",
    "\n",
    "            pred = torch.argmax(output, dim=1)\n",
    "            running_correct += (pred == targets).sum().item()\n",
    "            total += targets.size(0)\n",
    "            \n",
    "        scheduler.step()\n",
    "\n",
    "        train_losses.append(running_loss / len(trainloader))\n",
    "        train_acc.append(running_correct / total)\n",
    "\n",
    "    return train_losses, train_acc\n",
    "            "
   ]
  },
  {
   "cell_type": "code",
   "execution_count": 49,
   "metadata": {},
   "outputs": [],
   "source": [
    "# optimizer and loss and scheduler\n",
    "\n",
    "criterion = nn.CrossEntropyLoss()\n",
    "optimizer = optim.Adam(model.parameters(), lr=LEARNING_RATE)\n",
    "scheduler = optim.lr_scheduler.CosineAnnealingLR(optimizer, T_max=NUM_EPOCH, eta_min=0.001)"
   ]
  },
  {
   "cell_type": "code",
   "execution_count": 50,
   "metadata": {},
   "outputs": [
    {
     "name": "stdout",
     "output_type": "stream",
     "text": [
      "Epoch: 1\n"
     ]
    },
    {
     "name": "stderr",
     "output_type": "stream",
     "text": [
      "Train\t:   0%|          | 0/1763 [00:00<?, ?it/s]\n"
     ]
    },
    {
     "ename": "RuntimeError",
     "evalue": "Given input size: (512x1x1). Calculated output size: (512x0x0). Output size is too small",
     "output_type": "error",
     "traceback": [
      "\u001b[0;31m---------------------------------------------------------------------------\u001b[0m",
      "\u001b[0;31mRuntimeError\u001b[0m                              Traceback (most recent call last)",
      "Cell \u001b[0;32mIn[50], line 1\u001b[0m\n\u001b[0;32m----> 1\u001b[0m train_losses, train_acc \u001b[39m=\u001b[39m train(model,NUM_EPOCH,criterion,optimizer,scheduler )\n",
      "Cell \u001b[0;32mIn[48], line 17\u001b[0m, in \u001b[0;36mtrain\u001b[0;34m(model, epochs, criterion, optimizer, scheduler)\u001b[0m\n\u001b[1;32m     13\u001b[0m \u001b[39m# images = images.reshape(images.shape[0], -1) \u001b[39;00m\n\u001b[1;32m     15\u001b[0m optimizer\u001b[39m.\u001b[39mzero_grad()\n\u001b[0;32m---> 17\u001b[0m output \u001b[39m=\u001b[39m model(images)\n\u001b[1;32m     18\u001b[0m loss \u001b[39m=\u001b[39m criterion(output, targets)\n\u001b[1;32m     20\u001b[0m loss\u001b[39m.\u001b[39mbackward()\n",
      "File \u001b[0;32m/opt/conda/lib/python3.10/site-packages/torch/nn/modules/module.py:1501\u001b[0m, in \u001b[0;36mModule._call_impl\u001b[0;34m(self, *args, **kwargs)\u001b[0m\n\u001b[1;32m   1496\u001b[0m \u001b[39m# If we don't have any hooks, we want to skip the rest of the logic in\u001b[39;00m\n\u001b[1;32m   1497\u001b[0m \u001b[39m# this function, and just call forward.\u001b[39;00m\n\u001b[1;32m   1498\u001b[0m \u001b[39mif\u001b[39;00m \u001b[39mnot\u001b[39;00m (\u001b[39mself\u001b[39m\u001b[39m.\u001b[39m_backward_hooks \u001b[39mor\u001b[39;00m \u001b[39mself\u001b[39m\u001b[39m.\u001b[39m_backward_pre_hooks \u001b[39mor\u001b[39;00m \u001b[39mself\u001b[39m\u001b[39m.\u001b[39m_forward_hooks \u001b[39mor\u001b[39;00m \u001b[39mself\u001b[39m\u001b[39m.\u001b[39m_forward_pre_hooks\n\u001b[1;32m   1499\u001b[0m         \u001b[39mor\u001b[39;00m _global_backward_pre_hooks \u001b[39mor\u001b[39;00m _global_backward_hooks\n\u001b[1;32m   1500\u001b[0m         \u001b[39mor\u001b[39;00m _global_forward_hooks \u001b[39mor\u001b[39;00m _global_forward_pre_hooks):\n\u001b[0;32m-> 1501\u001b[0m     \u001b[39mreturn\u001b[39;00m forward_call(\u001b[39m*\u001b[39;49margs, \u001b[39m*\u001b[39;49m\u001b[39m*\u001b[39;49mkwargs)\n\u001b[1;32m   1502\u001b[0m \u001b[39m# Do not call functions when jit is used\u001b[39;00m\n\u001b[1;32m   1503\u001b[0m full_backward_hooks, non_full_backward_hooks \u001b[39m=\u001b[39m [], []\n",
      "Cell \u001b[0;32mIn[23], line 19\u001b[0m, in \u001b[0;36mVGGNet.forward\u001b[0;34m(self, x)\u001b[0m\n\u001b[1;32m     18\u001b[0m \u001b[39mdef\u001b[39;00m \u001b[39mforward\u001b[39m(\u001b[39mself\u001b[39m, x):\n\u001b[0;32m---> 19\u001b[0m     out \u001b[39m=\u001b[39m \u001b[39mself\u001b[39;49m\u001b[39m.\u001b[39;49mconv_layers(x)\n\u001b[1;32m     20\u001b[0m     out \u001b[39m=\u001b[39m out\u001b[39m.\u001b[39mreshape(out\u001b[39m.\u001b[39mshape[\u001b[39m0\u001b[39m], \u001b[39m-\u001b[39m\u001b[39m1\u001b[39m)\n\u001b[1;32m     21\u001b[0m     out \u001b[39m=\u001b[39m \u001b[39mself\u001b[39m\u001b[39m.\u001b[39mfcs(out)\n",
      "File \u001b[0;32m/opt/conda/lib/python3.10/site-packages/torch/nn/modules/module.py:1501\u001b[0m, in \u001b[0;36mModule._call_impl\u001b[0;34m(self, *args, **kwargs)\u001b[0m\n\u001b[1;32m   1496\u001b[0m \u001b[39m# If we don't have any hooks, we want to skip the rest of the logic in\u001b[39;00m\n\u001b[1;32m   1497\u001b[0m \u001b[39m# this function, and just call forward.\u001b[39;00m\n\u001b[1;32m   1498\u001b[0m \u001b[39mif\u001b[39;00m \u001b[39mnot\u001b[39;00m (\u001b[39mself\u001b[39m\u001b[39m.\u001b[39m_backward_hooks \u001b[39mor\u001b[39;00m \u001b[39mself\u001b[39m\u001b[39m.\u001b[39m_backward_pre_hooks \u001b[39mor\u001b[39;00m \u001b[39mself\u001b[39m\u001b[39m.\u001b[39m_forward_hooks \u001b[39mor\u001b[39;00m \u001b[39mself\u001b[39m\u001b[39m.\u001b[39m_forward_pre_hooks\n\u001b[1;32m   1499\u001b[0m         \u001b[39mor\u001b[39;00m _global_backward_pre_hooks \u001b[39mor\u001b[39;00m _global_backward_hooks\n\u001b[1;32m   1500\u001b[0m         \u001b[39mor\u001b[39;00m _global_forward_hooks \u001b[39mor\u001b[39;00m _global_forward_pre_hooks):\n\u001b[0;32m-> 1501\u001b[0m     \u001b[39mreturn\u001b[39;00m forward_call(\u001b[39m*\u001b[39;49margs, \u001b[39m*\u001b[39;49m\u001b[39m*\u001b[39;49mkwargs)\n\u001b[1;32m   1502\u001b[0m \u001b[39m# Do not call functions when jit is used\u001b[39;00m\n\u001b[1;32m   1503\u001b[0m full_backward_hooks, non_full_backward_hooks \u001b[39m=\u001b[39m [], []\n",
      "File \u001b[0;32m/opt/conda/lib/python3.10/site-packages/torch/nn/modules/container.py:217\u001b[0m, in \u001b[0;36mSequential.forward\u001b[0;34m(self, input)\u001b[0m\n\u001b[1;32m    215\u001b[0m \u001b[39mdef\u001b[39;00m \u001b[39mforward\u001b[39m(\u001b[39mself\u001b[39m, \u001b[39minput\u001b[39m):\n\u001b[1;32m    216\u001b[0m     \u001b[39mfor\u001b[39;00m module \u001b[39min\u001b[39;00m \u001b[39mself\u001b[39m:\n\u001b[0;32m--> 217\u001b[0m         \u001b[39minput\u001b[39m \u001b[39m=\u001b[39m module(\u001b[39minput\u001b[39;49m)\n\u001b[1;32m    218\u001b[0m     \u001b[39mreturn\u001b[39;00m \u001b[39minput\u001b[39m\n",
      "File \u001b[0;32m/opt/conda/lib/python3.10/site-packages/torch/nn/modules/module.py:1501\u001b[0m, in \u001b[0;36mModule._call_impl\u001b[0;34m(self, *args, **kwargs)\u001b[0m\n\u001b[1;32m   1496\u001b[0m \u001b[39m# If we don't have any hooks, we want to skip the rest of the logic in\u001b[39;00m\n\u001b[1;32m   1497\u001b[0m \u001b[39m# this function, and just call forward.\u001b[39;00m\n\u001b[1;32m   1498\u001b[0m \u001b[39mif\u001b[39;00m \u001b[39mnot\u001b[39;00m (\u001b[39mself\u001b[39m\u001b[39m.\u001b[39m_backward_hooks \u001b[39mor\u001b[39;00m \u001b[39mself\u001b[39m\u001b[39m.\u001b[39m_backward_pre_hooks \u001b[39mor\u001b[39;00m \u001b[39mself\u001b[39m\u001b[39m.\u001b[39m_forward_hooks \u001b[39mor\u001b[39;00m \u001b[39mself\u001b[39m\u001b[39m.\u001b[39m_forward_pre_hooks\n\u001b[1;32m   1499\u001b[0m         \u001b[39mor\u001b[39;00m _global_backward_pre_hooks \u001b[39mor\u001b[39;00m _global_backward_hooks\n\u001b[1;32m   1500\u001b[0m         \u001b[39mor\u001b[39;00m _global_forward_hooks \u001b[39mor\u001b[39;00m _global_forward_pre_hooks):\n\u001b[0;32m-> 1501\u001b[0m     \u001b[39mreturn\u001b[39;00m forward_call(\u001b[39m*\u001b[39;49margs, \u001b[39m*\u001b[39;49m\u001b[39m*\u001b[39;49mkwargs)\n\u001b[1;32m   1502\u001b[0m \u001b[39m# Do not call functions when jit is used\u001b[39;00m\n\u001b[1;32m   1503\u001b[0m full_backward_hooks, non_full_backward_hooks \u001b[39m=\u001b[39m [], []\n",
      "File \u001b[0;32m/opt/conda/lib/python3.10/site-packages/torch/nn/modules/pooling.py:166\u001b[0m, in \u001b[0;36mMaxPool2d.forward\u001b[0;34m(self, input)\u001b[0m\n\u001b[1;32m    165\u001b[0m \u001b[39mdef\u001b[39;00m \u001b[39mforward\u001b[39m(\u001b[39mself\u001b[39m, \u001b[39minput\u001b[39m: Tensor):\n\u001b[0;32m--> 166\u001b[0m     \u001b[39mreturn\u001b[39;00m F\u001b[39m.\u001b[39;49mmax_pool2d(\u001b[39minput\u001b[39;49m, \u001b[39mself\u001b[39;49m\u001b[39m.\u001b[39;49mkernel_size, \u001b[39mself\u001b[39;49m\u001b[39m.\u001b[39;49mstride,\n\u001b[1;32m    167\u001b[0m                         \u001b[39mself\u001b[39;49m\u001b[39m.\u001b[39;49mpadding, \u001b[39mself\u001b[39;49m\u001b[39m.\u001b[39;49mdilation, ceil_mode\u001b[39m=\u001b[39;49m\u001b[39mself\u001b[39;49m\u001b[39m.\u001b[39;49mceil_mode,\n\u001b[1;32m    168\u001b[0m                         return_indices\u001b[39m=\u001b[39;49m\u001b[39mself\u001b[39;49m\u001b[39m.\u001b[39;49mreturn_indices)\n",
      "File \u001b[0;32m/opt/conda/lib/python3.10/site-packages/torch/_jit_internal.py:484\u001b[0m, in \u001b[0;36mboolean_dispatch.<locals>.fn\u001b[0;34m(*args, **kwargs)\u001b[0m\n\u001b[1;32m    482\u001b[0m     \u001b[39mreturn\u001b[39;00m if_true(\u001b[39m*\u001b[39margs, \u001b[39m*\u001b[39m\u001b[39m*\u001b[39mkwargs)\n\u001b[1;32m    483\u001b[0m \u001b[39melse\u001b[39;00m:\n\u001b[0;32m--> 484\u001b[0m     \u001b[39mreturn\u001b[39;00m if_false(\u001b[39m*\u001b[39;49margs, \u001b[39m*\u001b[39;49m\u001b[39m*\u001b[39;49mkwargs)\n",
      "File \u001b[0;32m/opt/conda/lib/python3.10/site-packages/torch/nn/functional.py:782\u001b[0m, in \u001b[0;36m_max_pool2d\u001b[0;34m(input, kernel_size, stride, padding, dilation, ceil_mode, return_indices)\u001b[0m\n\u001b[1;32m    780\u001b[0m \u001b[39mif\u001b[39;00m stride \u001b[39mis\u001b[39;00m \u001b[39mNone\u001b[39;00m:\n\u001b[1;32m    781\u001b[0m     stride \u001b[39m=\u001b[39m torch\u001b[39m.\u001b[39mjit\u001b[39m.\u001b[39mannotate(List[\u001b[39mint\u001b[39m], [])\n\u001b[0;32m--> 782\u001b[0m \u001b[39mreturn\u001b[39;00m torch\u001b[39m.\u001b[39;49mmax_pool2d(\u001b[39minput\u001b[39;49m, kernel_size, stride, padding, dilation, ceil_mode)\n",
      "\u001b[0;31mRuntimeError\u001b[0m: Given input size: (512x1x1). Calculated output size: (512x0x0). Output size is too small"
     ]
    }
   ],
   "source": [
    "train_losses, train_acc = train(model,NUM_EPOCH,criterion,optimizer,scheduler )"
   ]
  },
  {
   "cell_type": "code",
   "execution_count": null,
   "metadata": {},
   "outputs": [],
   "source": []
  }
 ],
 "metadata": {
  "kernelspec": {
   "display_name": "Python 3",
   "language": "python",
   "name": "python3"
  },
  "language_info": {
   "codemirror_mode": {
    "name": "ipython",
    "version": 3
   },
   "file_extension": ".py",
   "mimetype": "text/x-python",
   "name": "python",
   "nbconvert_exporter": "python",
   "pygments_lexer": "ipython3",
   "version": "3.10.12"
  },
  "orig_nbformat": 4
 },
 "nbformat": 4,
 "nbformat_minor": 2
}
