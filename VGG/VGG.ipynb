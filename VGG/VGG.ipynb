{
 "cells": [
  {
   "cell_type": "code",
   "execution_count": 2,
   "metadata": {},
   "outputs": [],
   "source": [
    "import torch\n",
    "import torch.nn as nn\n",
    "import torch.nn.functional as F\n",
    "import torch.optim as optim\n",
    "from torch.utils.data import DataLoader\n",
    "import torchvision.datasets as Dataset\n",
    "import torchvision.transforms as Transforms\n",
    "import matplotlib.pyplot as plt\n",
    "from tqdm import tqdm\n",
    "\n",
    "\n",
    "import ssl\n",
    "ssl._create_default_https_context = ssl._create_unverified_context"
   ]
  },
  {
   "cell_type": "code",
   "execution_count": 3,
   "metadata": {},
   "outputs": [
    {
     "data": {
      "text/plain": [
       "device(type='cuda')"
      ]
     },
     "execution_count": 3,
     "metadata": {},
     "output_type": "execute_result"
    }
   ],
   "source": [
    "device = torch.device('cuda' if torch.cuda.is_available() else 'cpu')\n",
    "device"
   ]
  },
  {
   "cell_type": "code",
   "execution_count": 4,
   "metadata": {},
   "outputs": [],
   "source": [
    "NUM_EPOCH = 2\n",
    "NUM_CLASSES = 47\n",
    "BATCH_SIZE = 64\n",
    "LEARNING_RATE = 0.01"
   ]
  },
  {
   "cell_type": "markdown",
   "metadata": {},
   "source": [
    "### Dataset"
   ]
  },
  {
   "cell_type": "code",
   "execution_count": 5,
   "metadata": {},
   "outputs": [],
   "source": [
    "#Download the dataset\n",
    "train_dataset = Dataset.EMNIST(root=\"./data\", train=True, transform=Transforms.ToTensor(), split=\"balanced\", download=True)\n",
    "test_dataset = Dataset.EMNIST(root=\"./data\", train=False, transform=Transforms.ToTensor(), split=\"balanced\", download=True)"
   ]
  },
  {
   "cell_type": "code",
   "execution_count": 6,
   "metadata": {},
   "outputs": [],
   "source": [
    "train_loader = DataLoader(dataset=train_dataset, batch_size=BATCH_SIZE, shuffle=True)\n",
    "\n",
    "test_loader = DataLoader(dataset=test_dataset, batch_size=BATCH_SIZE, shuffle=True)\n"
   ]
  },
  {
   "cell_type": "code",
   "execution_count": 7,
   "metadata": {},
   "outputs": [
    {
     "name": "stdout",
     "output_type": "stream",
     "text": [
      "mean=tensor([0.1751]); std=tensor([0.3267]); num_samples=112800\n"
     ]
    }
   ],
   "source": [
    "# Normalize the dataset\n",
    "mean = 0.0\n",
    "std = 0.0\n",
    "num_samples = 0\n",
    "\n",
    "\n",
    "for data, lbls in train_loader:\n",
    "    batch_samples = data.size(0)\n",
    "    data = data.view(batch_samples, data.size(1), -1)\n",
    "    mean += data.mean(2).sum(0)\n",
    "    std += data.std(2).sum(0)\n",
    "    num_samples += batch_samples\n",
    "\n",
    "mean /= num_samples\n",
    "std /= num_samples\n",
    "\n",
    "print(f'{mean=}; {std=}; {num_samples=}')\n",
    "\n",
    "normalize_transform = Transforms.Normalize(mean=mean, std=std)\n",
    "\n",
    "train_loader.transform = Transforms.Compose([\n",
    "    Transforms.ToTensor(),\n",
    "    normalize_transform\n",
    "])\n",
    "\n",
    "test_loader.transform = Transforms.Compose([\n",
    "    Transforms.ToTensor(),\n",
    "    normalize_transform\n",
    "])\n",
    "\n"
   ]
  },
  {
   "cell_type": "code",
   "execution_count": 24,
   "metadata": {},
   "outputs": [
    {
     "name": "stdout",
     "output_type": "stream",
     "text": [
      "Data shape: torch.Size([64, 1, 28, 28])\n",
      "Label: tensor([36, 36, 20, 38,  0, 22, 24, 23, 38, 45,  7, 26, 15, 36, 17, 16, 11,  1,\n",
      "        11, 32, 23, 37, 28, 40,  5, 17, 12,  4, 35, 20, 28, 37, 26, 43, 21,  0,\n",
      "        10, 40,  1, 24, 29,  4, 11, 25, 45,  5,  3, 20,  6, 21, 18,  9, 30,  2,\n",
      "        37, 27, 11, 22, 38,  9, 45, 15, 41, 21])\n"
     ]
    }
   ],
   "source": [
    "for data, label in train_loader:\n",
    "    print(\"Data shape:\", data.shape)\n",
    "    \n",
    "    print(\"Label:\", label)\n",
    "    break"
   ]
  },
  {
   "cell_type": "code",
   "execution_count": 9,
   "metadata": {},
   "outputs": [
    {
     "name": "stdout",
     "output_type": "stream",
     "text": [
      "number of classes 47\n"
     ]
    },
    {
     "data": {
      "image/png": "[encoded data removed]",
      "text/plain": [
       "<Figure size 640x480 with 1 Axes>"
      ]
     },
     "metadata": {},
     "output_type": "display_data"
    }
   ],
   "source": [
    "class_counts = {}\n",
    "\n",
    "for values, labels in train_loader:\n",
    "    for label in labels:\n",
    "        if label.item() in class_counts:\n",
    "            class_counts[label.item()] += 1\n",
    "        else:\n",
    "            class_counts[label.item()] = 1\n",
    "\n",
    "classes = list(class_counts.keys())\n",
    "counts = list(class_counts.values())\n",
    "print(f'number of classes {len(classes)}')\n",
    "NUM_CLASSES = len(classes)\n",
    "\n",
    "# Plotting graph\n",
    "plt.bar(classes, counts)\n",
    "plt.xlabel('Classes')\n",
    "plt.ylabel('Number of Data')\n",
    "plt.title('Class Distribution in Train')\n",
    "plt.xticks(classes)\n",
    "plt.xticks(rotation=90)\n",
    "plt.show()"
   ]
  },
  {
   "cell_type": "code",
   "execution_count": 45,
   "metadata": {},
   "outputs": [],
   "source": [
    "VGG16 = [64, 64, 'M', 128,128,'M', 256, 256, 256, 'M', 512, 512, 512, 'M', 512, 512, 512, 'M']\n",
    "VGG1 = [64, 64, 'M', 128, 128, 'M', 256, 256, 'M']"
   ]
  },
  {
   "cell_type": "code",
   "execution_count": 11,
   "metadata": {},
   "outputs": [],
   "source": [
    "class VGGNet(nn.Module):\n",
    "    def __init__(self, in_channels=3, num_classes=1000, architecture=VGG16):\n",
    "        super(VGGNet, self).__init__()\n",
    "        self.in_channels = in_channels\n",
    "        self.conv_layers = self.create_conv_layer(VGG16)\n",
    "        self.fcs = nn.Sequential(\n",
    "            nn.Linear(512*7*7, 4096), # size of feature map at end is 7*7\n",
    "            nn.ReLU(),\n",
    "            nn.Dropout(p=0.5),\n",
    "            nn.Linear(4096, 4096),\n",
    "            nn.ReLU(),\n",
    "            nn.Dropout(p=0.5),\n",
    "            nn.Linear(4096,num_classes)\n",
    "        )\n",
    "        self.softMax = nn.Softmax(dim=1) # not sure\n",
    "\n",
    "\n",
    "    def forward(self, x):\n",
    "        out = self.conv_layers(x)\n",
    "        out = out.reshape(out.shape[0], -1)\n",
    "        out = self.fcs(out)\n",
    "        out = self.softMax(out)\n",
    "        return out\n",
    "\n",
    "    def create_conv_layer(self, architecture):\n",
    "        layers = []\n",
    "        in_channels = self.in_channels\n",
    "\n",
    "        for x in architecture:\n",
    "            if type(x) == int:\n",
    "                out_channels = x\n",
    "                layers += [nn.Conv2d(in_channels=in_channels, out_channels=out_channels, kernel_size=(3,3),stride=(1,1), padding=(1,1)),\n",
    "                           nn.BatchNorm2d(x),\n",
    "                           nn.ReLU()]\n",
    "                \n",
    "                in_channels = x\n",
    "            elif x == 'M':\n",
    "                layers += [nn.MaxPool2d(kernel_size=(2,2), stride=(2,2))]\n",
    "\n",
    "        return nn.Sequential(*layers)\n",
    "        \n"
   ]
  },
  {
   "cell_type": "code",
   "execution_count": 62,
   "metadata": {},
   "outputs": [],
   "source": [
    "class VGGNet1(nn.Module):\n",
    "    def __init__(self, in_channels=1, num_classes=1000, architecture=VGG1):\n",
    "        super(VGGNet1, self).__init__()\n",
    "        self.in_channels = in_channels\n",
    "        self.conv_layers = self.create_conv_layer(VGG1)\n",
    "        self.fcs = nn.Sequential(\n",
    "            nn.Linear(6272, 2048),\n",
    "            nn.ReLU(),\n",
    "            nn.Dropout(p=0.5),\n",
    "            nn.Linear(2048, 2048),\n",
    "            nn.ReLU(),\n",
    "            nn.Dropout(p=0.5),\n",
    "            nn.Linear(2048,num_classes)\n",
    "        )\n",
    "        self.softMax = nn.Softmax(dim=1)\n",
    "\n",
    "\n",
    "    def forward(self, x):\n",
    "        out = self.conv_layers(x)\n",
    "        out = out.reshape(out.shape[0], -1)\n",
    "        out = self.fcs(out)\n",
    "        out = self.softMax(out)\n",
    "        return out\n",
    "\n",
    "    def create_conv_layer(self, architecture):\n",
    "        layers = []\n",
    "        in_channels = self.in_channels\n",
    "\n",
    "        for x in architecture:\n",
    "            if type(x) == int:\n",
    "                out_channels = x\n",
    "                layers += [nn.Conv2d(in_channels=in_channels, out_channels=out_channels, kernel_size=(3,3),stride=(1,1), padding=(1,1)),\n",
    "                           nn.BatchNorm2d(x),\n",
    "                           nn.ReLU()]\n",
    "                \n",
    "                in_channels = x\n",
    "            elif x == 'M':\n",
    "                layers += [nn.MaxPool2d(kernel_size=(2,2), stride=(2,2))]\n",
    "\n",
    "        return nn.Sequential(*layers)\n",
    "        \n"
   ]
  },
  {
   "cell_type": "code",
   "execution_count": 63,
   "metadata": {},
   "outputs": [
    {
     "data": {
      "text/plain": [
       "VGGNet1(\n",
       "  (conv_layers): Sequential(\n",
       "    (0): Conv2d(1, 64, kernel_size=(3, 3), stride=(1, 1), padding=(1, 1))\n",
       "    (1): BatchNorm2d(64, eps=1e-05, momentum=0.1, affine=True, track_running_stats=True)\n",
       "    (2): ReLU()\n",
       "    (3): Conv2d(64, 64, kernel_size=(3, 3), stride=(1, 1), padding=(1, 1))\n",
       "    (4): BatchNorm2d(64, eps=1e-05, momentum=0.1, affine=True, track_running_stats=True)\n",
       "    (5): ReLU()\n",
       "    (6): MaxPool2d(kernel_size=(2, 2), stride=(2, 2), padding=0, dilation=1, ceil_mode=False)\n",
       "    (7): Conv2d(64, 128, kernel_size=(3, 3), stride=(1, 1), padding=(1, 1))\n",
       "    (8): BatchNorm2d(128, eps=1e-05, momentum=0.1, affine=True, track_running_stats=True)\n",
       "    (9): ReLU()\n",
       "    (10): Conv2d(128, 128, kernel_size=(3, 3), stride=(1, 1), padding=(1, 1))\n",
       "    (11): BatchNorm2d(128, eps=1e-05, momentum=0.1, affine=True, track_running_stats=True)\n",
       "    (12): ReLU()\n",
       "    (13): MaxPool2d(kernel_size=(2, 2), stride=(2, 2), padding=0, dilation=1, ceil_mode=False)\n",
       "  )\n",
       "  (fcs): Sequential(\n",
       "    (0): Linear(in_features=6272, out_features=2048, bias=True)\n",
       "    (1): ReLU()\n",
       "    (2): Dropout(p=0.5, inplace=False)\n",
       "    (3): Linear(in_features=2048, out_features=2048, bias=True)\n",
       "    (4): ReLU()\n",
       "    (5): Dropout(p=0.5, inplace=False)\n",
       "    (6): Linear(in_features=2048, out_features=47, bias=True)\n",
       "  )\n",
       "  (softMax): Softmax(dim=1)\n",
       ")"
      ]
     },
     "execution_count": 63,
     "metadata": {},
     "output_type": "execute_result"
    }
   ],
   "source": [
    "model = VGGNet1(architecture=VGG1,in_channels=1, num_classes=NUM_CLASSES).to(device)\n",
    "model"
   ]
  },
  {
   "cell_type": "code",
   "execution_count": 64,
   "metadata": {},
   "outputs": [
    {
     "name": "stdout",
     "output_type": "stream",
     "text": [
      "torch.Size([2, 1, 28, 28])\n"
     ]
    },
    {
     "data": {
      "text/plain": [
       "tensor([[0.0206, 0.0221, 0.0144, 0.0169, 0.0222, 0.0216, 0.0260, 0.0197, 0.0222,\n",
       "         0.0248, 0.0233, 0.0170, 0.0196, 0.0220, 0.0230, 0.0235, 0.0296, 0.0167,\n",
       "         0.0247, 0.0159, 0.0172, 0.0236, 0.0247, 0.0142, 0.0262, 0.0236, 0.0217,\n",
       "         0.0167, 0.0280, 0.0182, 0.0202, 0.0363, 0.0261, 0.0254, 0.0181, 0.0183,\n",
       "         0.0151, 0.0152, 0.0136, 0.0241, 0.0176, 0.0328, 0.0227, 0.0236, 0.0167,\n",
       "         0.0148, 0.0195],\n",
       "        [0.0377, 0.0191, 0.0147, 0.0165, 0.0252, 0.0230, 0.0249, 0.0198, 0.0254,\n",
       "         0.0261, 0.0232, 0.0130, 0.0205, 0.0240, 0.0237, 0.0291, 0.0243, 0.0245,\n",
       "         0.0257, 0.0148, 0.0175, 0.0199, 0.0208, 0.0141, 0.0208, 0.0176, 0.0217,\n",
       "         0.0140, 0.0263, 0.0241, 0.0185, 0.0242, 0.0239, 0.0407, 0.0147, 0.0160,\n",
       "         0.0246, 0.0178, 0.0148, 0.0194, 0.0179, 0.0216, 0.0190, 0.0148, 0.0177,\n",
       "         0.0184, 0.0242]], device='cuda:0', grad_fn=<SoftmaxBackward0>)"
      ]
     },
     "execution_count": 64,
     "metadata": {},
     "output_type": "execute_result"
    }
   ],
   "source": [
    "def test():\n",
    "    x = torch.randn(2, 1, 28, 28)\n",
    "    print(x.shape)\n",
    "\n",
    "    result = model(x.to(device))\n",
    "    return result\n",
    "\n",
    "fp = test()\n",
    "fp"
   ]
  },
  {
   "cell_type": "code",
   "execution_count": 71,
   "metadata": {},
   "outputs": [],
   "source": [
    "def train(model, epochs, criterion, optimizer, scheduler):\n",
    "    train_losses = []\n",
    "    train_acc = []\n",
    "\n",
    "    for i in range(epochs):\n",
    "        running_loss = 0.0\n",
    "        running_correct = 0\n",
    "        total = 0\n",
    "        best_acc = 0.0\n",
    "\n",
    "        print(f\"Epoch: {i + 1}\")\n",
    "\n",
    "        for images, targets in tqdm(train_loader, desc= \"Train\\t\"):\n",
    "            images, targets = images.to(device), targets.to(device)\n",
    "\n",
    "            # images = images.reshape(images.shape[0], -1) \n",
    "\n",
    "            optimizer.zero_grad()\n",
    "\n",
    "            output = model(images)\n",
    "            loss = criterion(output, targets)\n",
    "\n",
    "            loss.backward()\n",
    "            optimizer.step()\n",
    "\n",
    "            running_loss += loss.item()\n",
    "\n",
    "            pred = torch.argmax(output, dim=1)\n",
    "            running_correct += (pred == targets).sum().item()\n",
    "            total += targets.size(0)\n",
    "            \n",
    "        scheduler.step()\n",
    "\n",
    "        train_losses.append(running_loss / len(train_loader))\n",
    "        train_acc.append(running_correct / total)\n",
    "        print(f'{total=}, {running_correct=}, {running_loss=}, {len(train_loader)=}')\n",
    "\n",
    "    return train_losses, train_acc\n",
    "            "
   ]
  },
  {
   "cell_type": "code",
   "execution_count": 72,
   "metadata": {},
   "outputs": [],
   "source": [
    "# optimizer and loss and scheduler\n",
    "\n",
    "criterion = nn.CrossEntropyLoss()\n",
    "optimizer = optim.Adam(model.parameters(), lr=LEARNING_RATE)\n",
    "scheduler = optim.lr_scheduler.CosineAnnealingLR(optimizer, T_max=NUM_EPOCH, eta_min=0.001)"
   ]
  },
  {
   "cell_type": "code",
   "execution_count": 73,
   "metadata": {},
   "outputs": [
    {
     "name": "stdout",
     "output_type": "stream",
     "text": [
      "Epoch: 1\n"
     ]
    },
    {
     "name": "stderr",
     "output_type": "stream",
     "text": [
      "Train\t: 100%|██████████| 1763/1763 [00:19<00:00, 90.77it/s]\n"
     ]
    },
    {
     "name": "stdout",
     "output_type": "stream",
     "text": [
      "total=112800, running_correct=2400, running_loss=6813.598906755447, len(train_loader)=1763\n",
      "Epoch: 2\n"
     ]
    },
    {
     "name": "stderr",
     "output_type": "stream",
     "text": [
      "Train\t: 100%|██████████| 1763/1763 [00:18<00:00, 94.42it/s]"
     ]
    },
    {
     "name": "stdout",
     "output_type": "stream",
     "text": [
      "total=112800, running_correct=2400, running_loss=6813.614531755447, len(train_loader)=1763\n"
     ]
    },
    {
     "name": "stderr",
     "output_type": "stream",
     "text": [
      "\n"
     ]
    }
   ],
   "source": [
    "train_losses, train_acc = train(model,NUM_EPOCH,criterion,optimizer,scheduler )"
   ]
  },
  {
   "cell_type": "code",
   "execution_count": null,
   "metadata": {},
   "outputs": [],
   "source": []
  }
 ],
 "metadata": {
  "kernelspec": {
   "display_name": "Python 3",
   "language": "python",
   "name": "python3"
  },
  "language_info": {
   "codemirror_mode": {
    "name": "ipython",
    "version": 3
   },
   "file_extension": ".py",
   "mimetype": "text/x-python",
   "name": "python",
   "nbconvert_exporter": "python",
   "pygments_lexer": "ipython3",
   "version": "3.10.12"
  },
  "orig_nbformat": 4
 },
 "nbformat": 4,
 "nbformat_minor": 2
}
